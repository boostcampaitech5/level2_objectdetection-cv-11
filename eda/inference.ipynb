{
 "cells": [
  {
   "cell_type": "code",
   "execution_count": 1,
   "id": "3fd75793",
   "metadata": {},
   "outputs": [
    {
     "name": "stderr",
     "output_type": "stream",
     "text": [
      "/opt/conda/envs/detection/lib/python3.7/site-packages/mmcv/__init__.py:21: UserWarning: On January 1, 2023, MMCV will release v2.0.0, in which it will remove components related to the training process and add a data transformation module. In addition, it will rename the package names mmcv to mmcv-lite and mmcv-full to mmcv. See https://github.com/open-mmlab/mmcv/blob/master/docs/en/compatibility.md for more details.\n",
      "  'On January 1, 2023, MMCV will release v2.0.0, in which it will remove '\n"
     ]
    }
   ],
   "source": [
    "import mmcv\n",
    "from mmcv import Config\n",
    "from mmdet.datasets import (build_dataloader, build_dataset,\n",
    "                            replace_ImageToTensor)\n",
    "from mmdet.models import build_detector\n",
    "from mmdet.apis import single_gpu_test\n",
    "from mmcv.runner import load_checkpoint\n",
    "import os\n",
    "from mmcv.parallel import MMDataParallel\n",
    "import pandas as pd\n",
    "from pandas import DataFrame\n",
    "from pycocotools.coco import COCO\n",
    "import numpy as np"
   ]
  },
  {
   "cell_type": "code",
   "execution_count": 8,
   "id": "edda58ea",
   "metadata": {},
   "outputs": [],
   "source": [
    "classes = (\"General trash\", \"Paper\", \"Paper pack\", \"Metal\", \"Glass\", \n",
    "           \"Plastic\", \"Styrofoam\", \"Plastic bag\", \"Battery\", \"Clothing\")\n",
    "\n",
    "# config file 들고오기\n",
    "cfg = Config.fromfile('/opt/ml/baseline/baseline_cv11/UniverseNet/configs/universenet/universenet101_2008d_fp16_4x4_mstrain_480_960_20e_coco.py')\n",
    "\n",
    "root='../../../dataset/'\n",
    "\n",
    "epoch = 'best_bbox_mAP_50_epoch_20'\n",
    "\n",
    "# dataset config 수정\n",
    "cfg.data.test.classes = classes\n",
    "cfg.data.test.img_prefix = root\n",
    "cfg.data.test.ann_file = root + 'test.json'\n",
    "cfg.data.test.pipeline[1]['img_scale'] = (512,512) # Resize\n",
    "cfg.data.test.test_mode = True\n",
    "\n",
    "cfg.data.samples_per_gpu = 4\n",
    "\n",
    "cfg.seed=2021\n",
    "cfg.gpu_ids = [1]\n",
    "cfg.work_dir = '/opt/ml/baseline/baseline_cv11/UniverseNet/work_dirs/universenet101_2008d_fp16_4x4_mstrain_480_960_20e_coco_trash'\n",
    "\n",
    "if \"roi_head\" in cfg.model.keys():\n",
    "        if type(cfg.model.roi_head.bbox_head) == dict:\n",
    "            cfg.model.roi_head.bbox_head.num_classes = 10\n",
    "\n",
    "        #In case of cascade RCNN : List[Dict]\n",
    "        elif type(cfg.model.roi_head.bbox_head) == list:\n",
    "            for each_head in cfg.model.roi_head.bbox_head:\n",
    "                if hasattr(each_head, \"num_classes\"):\n",
    "                    each_head.num_classes = 10 \n",
    "                else: \n",
    "                    raise Exception(\"Num_classes가 없습니다\")\n",
    "else:\n",
    "    cfg.model.bbox_head.num_classes = 10\n",
    "cfg.optimizer_config.grad_clip = dict(max_norm=35, norm_type=2)\n",
    "cfg.model.train_cfg = None"
   ]
  },
  {
   "cell_type": "code",
   "execution_count": 9,
   "id": "b086a8cf",
   "metadata": {},
   "outputs": [
    {
     "name": "stdout",
     "output_type": "stream",
     "text": [
      "loading annotations into memory...\n",
      "Done (t=0.01s)\n",
      "creating index...\n",
      "index created!\n"
     ]
    }
   ],
   "source": [
    "# build dataset & dataloader\n",
    "dataset = build_dataset(cfg.data.test)\n",
    "data_loader = build_dataloader(\n",
    "        dataset,\n",
    "        samples_per_gpu=1,\n",
    "        workers_per_gpu=cfg.data.workers_per_gpu,\n",
    "        dist=False,\n",
    "        shuffle=False)"
   ]
  },
  {
   "cell_type": "code",
   "execution_count": 10,
   "id": "83b3eae6",
   "metadata": {
    "collapsed": true,
    "jupyter": {
     "outputs_hidden": true
    },
    "tags": []
   },
   "outputs": [
    {
     "name": "stdout",
     "output_type": "stream",
     "text": [
      "load checkpoint from local path: /opt/ml/baseline/baseline_cv11/UniverseNet/work_dirs/universenet101_2008d_fp16_4x4_mstrain_480_960_20e_coco_trash/best_bbox_mAP_50_epoch_20.pth\n"
     ]
    },
    {
     "name": "stderr",
     "output_type": "stream",
     "text": [
      "2023-05-10 12:51:39,698 - root - INFO - DeformConv2dPack backbone.layer2.0.convs.0 is upgraded to version 2.\n",
      "2023-05-10 12:51:39,700 - root - INFO - DeformConv2dPack backbone.layer2.0.convs.1 is upgraded to version 2.\n",
      "2023-05-10 12:51:39,701 - root - INFO - DeformConv2dPack backbone.layer2.0.convs.2 is upgraded to version 2.\n",
      "2023-05-10 12:51:39,710 - root - INFO - DeformConv2dPack backbone.layer2.1.convs.0 is upgraded to version 2.\n",
      "2023-05-10 12:51:39,712 - root - INFO - DeformConv2dPack backbone.layer2.1.convs.1 is upgraded to version 2.\n",
      "2023-05-10 12:51:39,713 - root - INFO - DeformConv2dPack backbone.layer2.1.convs.2 is upgraded to version 2.\n",
      "2023-05-10 12:51:39,722 - root - INFO - DeformConv2dPack backbone.layer2.2.convs.0 is upgraded to version 2.\n",
      "2023-05-10 12:51:39,723 - root - INFO - DeformConv2dPack backbone.layer2.2.convs.1 is upgraded to version 2.\n",
      "2023-05-10 12:51:39,724 - root - INFO - DeformConv2dPack backbone.layer2.2.convs.2 is upgraded to version 2.\n",
      "2023-05-10 12:51:39,734 - root - INFO - DeformConv2dPack backbone.layer2.3.convs.0 is upgraded to version 2.\n",
      "2023-05-10 12:51:39,735 - root - INFO - DeformConv2dPack backbone.layer2.3.convs.1 is upgraded to version 2.\n",
      "2023-05-10 12:51:39,736 - root - INFO - DeformConv2dPack backbone.layer2.3.convs.2 is upgraded to version 2.\n",
      "2023-05-10 12:51:39,750 - root - INFO - DeformConv2dPack backbone.layer3.0.convs.0 is upgraded to version 2.\n",
      "2023-05-10 12:51:39,753 - root - INFO - DeformConv2dPack backbone.layer3.0.convs.1 is upgraded to version 2.\n",
      "2023-05-10 12:51:39,757 - root - INFO - DeformConv2dPack backbone.layer3.0.convs.2 is upgraded to version 2.\n",
      "2023-05-10 12:51:39,769 - root - INFO - DeformConv2dPack backbone.layer3.1.convs.0 is upgraded to version 2.\n",
      "2023-05-10 12:51:39,772 - root - INFO - DeformConv2dPack backbone.layer3.1.convs.1 is upgraded to version 2.\n",
      "2023-05-10 12:51:39,776 - root - INFO - DeformConv2dPack backbone.layer3.1.convs.2 is upgraded to version 2.\n",
      "2023-05-10 12:51:39,788 - root - INFO - DeformConv2dPack backbone.layer3.2.convs.0 is upgraded to version 2.\n",
      "2023-05-10 12:51:39,791 - root - INFO - DeformConv2dPack backbone.layer3.2.convs.1 is upgraded to version 2.\n",
      "2023-05-10 12:51:39,795 - root - INFO - DeformConv2dPack backbone.layer3.2.convs.2 is upgraded to version 2.\n",
      "2023-05-10 12:51:39,807 - root - INFO - DeformConv2dPack backbone.layer3.3.convs.0 is upgraded to version 2.\n",
      "2023-05-10 12:51:39,810 - root - INFO - DeformConv2dPack backbone.layer3.3.convs.1 is upgraded to version 2.\n",
      "2023-05-10 12:51:39,813 - root - INFO - DeformConv2dPack backbone.layer3.3.convs.2 is upgraded to version 2.\n",
      "2023-05-10 12:51:39,825 - root - INFO - DeformConv2dPack backbone.layer3.4.convs.0 is upgraded to version 2.\n",
      "2023-05-10 12:51:39,828 - root - INFO - DeformConv2dPack backbone.layer3.4.convs.1 is upgraded to version 2.\n",
      "2023-05-10 12:51:39,831 - root - INFO - DeformConv2dPack backbone.layer3.4.convs.2 is upgraded to version 2.\n",
      "2023-05-10 12:51:39,843 - root - INFO - DeformConv2dPack backbone.layer3.5.convs.0 is upgraded to version 2.\n",
      "2023-05-10 12:51:39,847 - root - INFO - DeformConv2dPack backbone.layer3.5.convs.1 is upgraded to version 2.\n",
      "2023-05-10 12:51:39,850 - root - INFO - DeformConv2dPack backbone.layer3.5.convs.2 is upgraded to version 2.\n",
      "2023-05-10 12:51:39,862 - root - INFO - DeformConv2dPack backbone.layer3.6.convs.0 is upgraded to version 2.\n",
      "2023-05-10 12:51:39,866 - root - INFO - DeformConv2dPack backbone.layer3.6.convs.1 is upgraded to version 2.\n",
      "2023-05-10 12:51:39,869 - root - INFO - DeformConv2dPack backbone.layer3.6.convs.2 is upgraded to version 2.\n",
      "2023-05-10 12:51:39,881 - root - INFO - DeformConv2dPack backbone.layer3.7.convs.0 is upgraded to version 2.\n",
      "2023-05-10 12:51:39,884 - root - INFO - DeformConv2dPack backbone.layer3.7.convs.1 is upgraded to version 2.\n",
      "2023-05-10 12:51:39,888 - root - INFO - DeformConv2dPack backbone.layer3.7.convs.2 is upgraded to version 2.\n",
      "2023-05-10 12:51:39,900 - root - INFO - DeformConv2dPack backbone.layer3.8.convs.0 is upgraded to version 2.\n",
      "2023-05-10 12:51:39,903 - root - INFO - DeformConv2dPack backbone.layer3.8.convs.1 is upgraded to version 2.\n",
      "2023-05-10 12:51:39,907 - root - INFO - DeformConv2dPack backbone.layer3.8.convs.2 is upgraded to version 2.\n",
      "2023-05-10 12:51:39,918 - root - INFO - DeformConv2dPack backbone.layer3.9.convs.0 is upgraded to version 2.\n",
      "2023-05-10 12:51:39,922 - root - INFO - DeformConv2dPack backbone.layer3.9.convs.1 is upgraded to version 2.\n",
      "2023-05-10 12:51:39,926 - root - INFO - DeformConv2dPack backbone.layer3.9.convs.2 is upgraded to version 2.\n",
      "2023-05-10 12:51:39,937 - root - INFO - DeformConv2dPack backbone.layer3.10.convs.0 is upgraded to version 2.\n",
      "2023-05-10 12:51:39,940 - root - INFO - DeformConv2dPack backbone.layer3.10.convs.1 is upgraded to version 2.\n",
      "2023-05-10 12:51:39,944 - root - INFO - DeformConv2dPack backbone.layer3.10.convs.2 is upgraded to version 2.\n",
      "2023-05-10 12:51:39,956 - root - INFO - DeformConv2dPack backbone.layer3.11.convs.0 is upgraded to version 2.\n",
      "2023-05-10 12:51:39,959 - root - INFO - DeformConv2dPack backbone.layer3.11.convs.1 is upgraded to version 2.\n",
      "2023-05-10 12:51:39,963 - root - INFO - DeformConv2dPack backbone.layer3.11.convs.2 is upgraded to version 2.\n",
      "2023-05-10 12:51:39,975 - root - INFO - DeformConv2dPack backbone.layer3.12.convs.0 is upgraded to version 2.\n",
      "2023-05-10 12:51:39,978 - root - INFO - DeformConv2dPack backbone.layer3.12.convs.1 is upgraded to version 2.\n",
      "2023-05-10 12:51:39,982 - root - INFO - DeformConv2dPack backbone.layer3.12.convs.2 is upgraded to version 2.\n",
      "2023-05-10 12:51:39,993 - root - INFO - DeformConv2dPack backbone.layer3.13.convs.0 is upgraded to version 2.\n",
      "2023-05-10 12:51:39,997 - root - INFO - DeformConv2dPack backbone.layer3.13.convs.1 is upgraded to version 2.\n",
      "2023-05-10 12:51:39,999 - root - INFO - DeformConv2dPack backbone.layer3.13.convs.2 is upgraded to version 2.\n",
      "2023-05-10 12:51:40,005 - root - INFO - DeformConv2dPack backbone.layer3.14.convs.0 is upgraded to version 2.\n",
      "2023-05-10 12:51:40,007 - root - INFO - DeformConv2dPack backbone.layer3.14.convs.1 is upgraded to version 2.\n",
      "2023-05-10 12:51:40,008 - root - INFO - DeformConv2dPack backbone.layer3.14.convs.2 is upgraded to version 2.\n",
      "2023-05-10 12:51:40,014 - root - INFO - DeformConv2dPack backbone.layer3.15.convs.0 is upgraded to version 2.\n",
      "2023-05-10 12:51:40,017 - root - INFO - DeformConv2dPack backbone.layer3.15.convs.1 is upgraded to version 2.\n",
      "2023-05-10 12:51:40,019 - root - INFO - DeformConv2dPack backbone.layer3.15.convs.2 is upgraded to version 2.\n",
      "2023-05-10 12:51:40,024 - root - INFO - DeformConv2dPack backbone.layer3.16.convs.0 is upgraded to version 2.\n",
      "2023-05-10 12:51:40,026 - root - INFO - DeformConv2dPack backbone.layer3.16.convs.1 is upgraded to version 2.\n",
      "2023-05-10 12:51:40,029 - root - INFO - DeformConv2dPack backbone.layer3.16.convs.2 is upgraded to version 2.\n",
      "2023-05-10 12:51:40,034 - root - INFO - DeformConv2dPack backbone.layer3.17.convs.0 is upgraded to version 2.\n",
      "2023-05-10 12:51:40,036 - root - INFO - DeformConv2dPack backbone.layer3.17.convs.1 is upgraded to version 2.\n",
      "2023-05-10 12:51:40,038 - root - INFO - DeformConv2dPack backbone.layer3.17.convs.2 is upgraded to version 2.\n",
      "2023-05-10 12:51:40,043 - root - INFO - DeformConv2dPack backbone.layer3.18.convs.0 is upgraded to version 2.\n",
      "2023-05-10 12:51:40,046 - root - INFO - DeformConv2dPack backbone.layer3.18.convs.1 is upgraded to version 2.\n",
      "2023-05-10 12:51:40,048 - root - INFO - DeformConv2dPack backbone.layer3.18.convs.2 is upgraded to version 2.\n",
      "2023-05-10 12:51:40,053 - root - INFO - DeformConv2dPack backbone.layer3.19.convs.0 is upgraded to version 2.\n",
      "2023-05-10 12:51:40,055 - root - INFO - DeformConv2dPack backbone.layer3.19.convs.1 is upgraded to version 2.\n",
      "2023-05-10 12:51:40,057 - root - INFO - DeformConv2dPack backbone.layer3.19.convs.2 is upgraded to version 2.\n",
      "2023-05-10 12:51:40,062 - root - INFO - DeformConv2dPack backbone.layer3.20.convs.0 is upgraded to version 2.\n",
      "2023-05-10 12:51:40,065 - root - INFO - DeformConv2dPack backbone.layer3.20.convs.1 is upgraded to version 2.\n",
      "2023-05-10 12:51:40,067 - root - INFO - DeformConv2dPack backbone.layer3.20.convs.2 is upgraded to version 2.\n",
      "2023-05-10 12:51:40,072 - root - INFO - DeformConv2dPack backbone.layer3.21.convs.0 is upgraded to version 2.\n",
      "2023-05-10 12:51:40,074 - root - INFO - DeformConv2dPack backbone.layer3.21.convs.1 is upgraded to version 2.\n",
      "2023-05-10 12:51:40,077 - root - INFO - DeformConv2dPack backbone.layer3.21.convs.2 is upgraded to version 2.\n",
      "2023-05-10 12:51:40,082 - root - INFO - DeformConv2dPack backbone.layer3.22.convs.0 is upgraded to version 2.\n",
      "2023-05-10 12:51:40,084 - root - INFO - DeformConv2dPack backbone.layer3.22.convs.1 is upgraded to version 2.\n",
      "2023-05-10 12:51:40,086 - root - INFO - DeformConv2dPack backbone.layer3.22.convs.2 is upgraded to version 2.\n",
      "2023-05-10 12:51:40,093 - root - INFO - DeformConv2dPack backbone.layer4.0.convs.0 is upgraded to version 2.\n",
      "2023-05-10 12:51:40,096 - root - INFO - DeformConv2dPack backbone.layer4.0.convs.1 is upgraded to version 2.\n",
      "2023-05-10 12:51:40,098 - root - INFO - DeformConv2dPack backbone.layer4.0.convs.2 is upgraded to version 2.\n",
      "2023-05-10 12:51:40,104 - root - INFO - DeformConv2dPack backbone.layer4.1.convs.0 is upgraded to version 2.\n",
      "2023-05-10 12:51:40,106 - root - INFO - DeformConv2dPack backbone.layer4.1.convs.1 is upgraded to version 2.\n",
      "2023-05-10 12:51:40,108 - root - INFO - DeformConv2dPack backbone.layer4.1.convs.2 is upgraded to version 2.\n",
      "2023-05-10 12:51:40,114 - root - INFO - DeformConv2dPack backbone.layer4.2.convs.0 is upgraded to version 2.\n",
      "2023-05-10 12:51:40,117 - root - INFO - DeformConv2dPack backbone.layer4.2.convs.1 is upgraded to version 2.\n",
      "2023-05-10 12:51:40,119 - root - INFO - DeformConv2dPack backbone.layer4.2.convs.2 is upgraded to version 2.\n"
     ]
    }
   ],
   "source": [
    "# checkpoint path\n",
    "checkpoint_path = os.path.join(cfg.work_dir, f'{epoch}.pth')\n",
    "\n",
    "model = build_detector(cfg.model, test_cfg=cfg.get('test_cfg')) # build detector\n",
    "checkpoint = load_checkpoint(model, checkpoint_path, map_location='cpu') # ckpt load\n",
    "\n",
    "model.CLASSES = dataset.CLASSES\n",
    "model = MMDataParallel(model.cuda(), device_ids=[0])"
   ]
  },
  {
   "cell_type": "code",
   "execution_count": 11,
   "id": "c9f5c2bb",
   "metadata": {},
   "outputs": [
    {
     "name": "stdout",
     "output_type": "stream",
     "text": [
      "[>>>>>>>>>>>>>>>>>>>>>>>>>>>] 4871/4871, 7.3 task/s, elapsed: 667s, ETA:     0s"
     ]
    }
   ],
   "source": [
    "output = single_gpu_test(model, data_loader, show_score_thr=0.05) # output 계산"
   ]
  },
  {
   "cell_type": "code",
   "execution_count": 12,
   "id": "5672a0ff",
   "metadata": {},
   "outputs": [
    {
     "name": "stdout",
     "output_type": "stream",
     "text": [
      "loading annotations into memory...\n",
      "Done (t=0.01s)\n",
      "creating index...\n",
      "index created!\n"
     ]
    },
    {
     "data": {
      "text/html": [
       "<div>\n",
       "<style scoped>\n",
       "    .dataframe tbody tr th:only-of-type {\n",
       "        vertical-align: middle;\n",
       "    }\n",
       "\n",
       "    .dataframe tbody tr th {\n",
       "        vertical-align: top;\n",
       "    }\n",
       "\n",
       "    .dataframe thead th {\n",
       "        text-align: right;\n",
       "    }\n",
       "</style>\n",
       "<table border=\"1\" class=\"dataframe\">\n",
       "  <thead>\n",
       "    <tr style=\"text-align: right;\">\n",
       "      <th></th>\n",
       "      <th>PredictionString</th>\n",
       "      <th>image_id</th>\n",
       "    </tr>\n",
       "  </thead>\n",
       "  <tbody>\n",
       "    <tr>\n",
       "      <th>0</th>\n",
       "      <td>0 0.23994805 556.54785 350.56863 708.01605 607...</td>\n",
       "      <td>test/0000.jpg</td>\n",
       "    </tr>\n",
       "    <tr>\n",
       "      <th>1</th>\n",
       "      <td>0 0.21525708 636.2284 655.3315 689.5049 844.98...</td>\n",
       "      <td>test/0001.jpg</td>\n",
       "    </tr>\n",
       "    <tr>\n",
       "      <th>2</th>\n",
       "      <td>0 0.6501753 778.7716 389.85974 1023.49835 1024...</td>\n",
       "      <td>test/0002.jpg</td>\n",
       "    </tr>\n",
       "    <tr>\n",
       "      <th>3</th>\n",
       "      <td>0 0.4281529 0.059143066 0.0 1023.682 1009.3923...</td>\n",
       "      <td>test/0003.jpg</td>\n",
       "    </tr>\n",
       "    <tr>\n",
       "      <th>4</th>\n",
       "      <td>0 0.8571342 185.49188 255.19092 878.39685 777....</td>\n",
       "      <td>test/0004.jpg</td>\n",
       "    </tr>\n",
       "  </tbody>\n",
       "</table>\n",
       "</div>"
      ],
      "text/plain": [
       "                                    PredictionString       image_id\n",
       "0  0 0.23994805 556.54785 350.56863 708.01605 607...  test/0000.jpg\n",
       "1  0 0.21525708 636.2284 655.3315 689.5049 844.98...  test/0001.jpg\n",
       "2  0 0.6501753 778.7716 389.85974 1023.49835 1024...  test/0002.jpg\n",
       "3  0 0.4281529 0.059143066 0.0 1023.682 1009.3923...  test/0003.jpg\n",
       "4  0 0.8571342 185.49188 255.19092 878.39685 777....  test/0004.jpg"
      ]
     },
     "execution_count": 12,
     "metadata": {},
     "output_type": "execute_result"
    }
   ],
   "source": [
    "# submission 양식에 맞게 output 후처리\n",
    "prediction_strings = []\n",
    "file_names = []\n",
    "coco = COCO(cfg.data.test.ann_file)\n",
    "img_ids = coco.getImgIds()\n",
    "\n",
    "class_num = 10\n",
    "for i, out in enumerate(output):\n",
    "    prediction_string = ''\n",
    "    image_info = coco.loadImgs(coco.getImgIds(imgIds=i))[0]\n",
    "    for j in range(class_num):\n",
    "        for o in out[j]:\n",
    "            prediction_string += str(j) + ' ' + str(o[4]) + ' ' + str(o[0]) + ' ' + str(o[1]) + ' ' + str(\n",
    "                o[2]) + ' ' + str(o[3]) + ' '\n",
    "        \n",
    "    prediction_strings.append(prediction_string)\n",
    "    file_names.append(image_info['file_name'])\n",
    "\n",
    "\n",
    "submission = pd.DataFrame()\n",
    "submission['PredictionString'] = prediction_strings\n",
    "submission['image_id'] = file_names\n",
    "submission.to_csv(os.path.join(cfg.work_dir, f'submission_{epoch}.csv'), index=None)\n",
    "submission.head()"
   ]
  },
  {
   "cell_type": "code",
   "execution_count": null,
   "id": "aa759ddd-c510-4054-b18e-372da5b9790a",
   "metadata": {},
   "outputs": [],
   "source": []
  }
 ],
 "metadata": {
  "kernelspec": {
   "display_name": "Python 3 (ipykernel)",
   "language": "python",
   "name": "python3"
  },
  "language_info": {
   "codemirror_mode": {
    "name": "ipython",
    "version": 3
   },
   "file_extension": ".py",
   "mimetype": "text/x-python",
   "name": "python",
   "nbconvert_exporter": "python",
   "pygments_lexer": "ipython3",
   "version": "3.7.16"
  }
 },
 "nbformat": 4,
 "nbformat_minor": 5
}
