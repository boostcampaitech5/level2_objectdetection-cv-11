{
 "cells": [
  {
   "attachments": {},
   "cell_type": "markdown",
   "metadata": {},
   "source": [
    "# 모든 train 이미지 bbox 그린 후 저장하는 코드"
   ]
  },
  {
   "cell_type": "code",
   "execution_count": 1,
   "metadata": {},
   "outputs": [
    {
     "name": "stdout",
     "output_type": "stream",
     "text": [
      "loading annotations into memory...\n",
      "Done (t=0.14s)\n",
      "creating index...\n",
      "index created!\n",
      "Save Complete! path: /opt/ml/dataset/train_bbox5/0000.jpg\n"
     ]
    }
   ],
   "source": [
    "import cv2\n",
    "from pycocotools.coco import COCO\n",
    "import matplotlib.pyplot as plt\n",
    "import os\n",
    "\n",
    "# COCO dataset의 annotation 파일 경로와 이미지 파일 경로\n",
    "\"\"\"\n",
    "json 파일 경로와 datset 경로 설정\n",
    "\"\"\"\n",
    "ann_file = '/opt/ml/dataset/train.json'\n",
    "img_dir = '/opt/ml/dataset/'\n",
    "\n",
    "# COCO 객체 생성\n",
    "coco = COCO(ann_file)\n",
    "\n",
    "\"\"\"\n",
    "bbox를 그리기 위한 color 설정\n",
    "다른 color를 원할 경우 수정\n",
    "\"\"\"\n",
    "color_list = [(255, 0, 0), (0, 255, 0), (0, 0, 255), (255, 255, 0), (0, 255, 255), (255, 0, 255), (0, 255, 128), (255, 128, 0), (255, 192, 203), (64, 64, 64)]\n",
    "\n",
    "# 카테고리 ID와 이름을 딕셔너리로 저장\n",
    "cat_id_to_name = {}\n",
    "for cat in coco.loadCats(coco.getCatIds()):\n",
    "    cat_id_to_name[cat['id']] = cat['name']\n",
    "\n",
    "# 이미지 ID를 순회하면서 bbox 그리기\n",
    "for img_id in coco.getImgIds():\n",
    "    # 이미지 파일 경로 가져오기\n",
    "    img_info = coco.loadImgs(img_id)[0]\n",
    "    img_name = img_info['file_name'][6:]\n",
    "    img_path = img_dir + img_info['file_name']\n",
    "\n",
    "    # 이미지 로드하기\n",
    "    img = cv2.imread(img_path)\n",
    "\n",
    "    for ann in coco.loadAnns(coco.getAnnIds(imgIds=img_id)):\n",
    "        bbox = ann['bbox']\n",
    "        x, y, w, h = int(bbox[0]), int(bbox[1]), int(bbox[2]), int(bbox[3])\n",
    "        # bbox 그리기\n",
    "        cv2.rectangle(img, (x, y), (x+w, y+h), color_list[ann['category_id']], 4)\n",
    "        # class명 그리기\n",
    "        cv2.putText(img, cat_id_to_name[ann['category_id']], (x, y-10), cv2.FONT_HERSHEY_SIMPLEX, 0.9, color_list[ann['category_id']], 4)\n",
    "\n",
    "    \"\"\"\n",
    "    저장 경로 설정\n",
    "    \"\"\"\n",
    "    # 저장 경로\n",
    "    save_path = '/opt/ml/dataset/train_bbox5'\n",
    "    # 저장 폴더 생성\n",
    "    os.makedirs(save_path, exist_ok=True)\n",
    "    # bbox 그린 이미지 저장\n",
    "    cv2.imwrite(save_path + f'/{img_name}', img)\n",
    "    print(\"Save Complete! path:\", f\"{save_path}/{img_name}\")\n",
    "    del img\n",
    "    \n",
    "    # 이미지 보여주기\n",
    "    # plt.imshow(cv2.cvtColor(img, cv2.COLOR_BGR2RGB))\n",
    "    # plt.show()\n",
    "    # cv2.imshow('Image', img)\n",
    "    # cv2.waitKey(0)\n"
   ]
  },
  {
   "attachments": {},
   "cell_type": "markdown",
   "metadata": {},
   "source": [
    "# 원본 이미지와 bbox 그려진 이미지 보는 코드"
   ]
  },
  {
   "cell_type": "code",
   "execution_count": 10,
   "metadata": {},
   "outputs": [
    {
     "data": {
      "application/vnd.jupyter.widget-view+json": {
       "model_id": "1ebedb69c0314e1f84ab5c0490adf741",
       "version_major": 2,
       "version_minor": 0
      },
      "text/plain": [
       "interactive(children=(IntSlider(value=0, description='index', max=4882), Output()), _dom_classes=('widget-inte…"
      ]
     },
     "metadata": {},
     "output_type": "display_data"
    }
   ],
   "source": [
    "from ipywidgets import interact\n",
    "import os\n",
    "# 경로 합친 다음 BGR을 RGB로 바꿔서 이미지 불러오기\n",
    "def get_RGB_image(data_dir, file_name):\n",
    "    image_file = os.path.join(data_dir, file_name)\n",
    "    image = cv2.imread(image_file)\n",
    "    image = cv2.cvtColor(image, cv2.COLOR_BGR2RGB)\n",
    "    return image\n",
    "\n",
    "# 원본 이미지 경로\n",
    "origin_dir = '/opt/ml/dataset/train'\n",
    "# bbox 그려진 이미지 경로\n",
    "bbox_dir = '/opt/ml/dataset/train_bbox2'\n",
    "\n",
    "# 원본 이미지 리스트\n",
    "origin_list = os.listdir('/opt/ml/dataset/train')\n",
    "origin_list.sort()\n",
    "# bbox 그려진 이미지 리스트\n",
    "bbox_list = os.listdir('/opt/ml/dataset/train_bbox2')\n",
    "bbox_list.sort()\n",
    "\n",
    "# 0부터 4882까지 슬라이드 바 생성, 총 4883장 이미지\n",
    "@interact(index=(0, 4882, 1) )  \n",
    "def show_samples(index=0):\n",
    "    origin_image = get_RGB_image(origin_dir, origin_list[index])\n",
    "    bbox_image = get_RGB_image(bbox_dir, bbox_list[index])\n",
    "    \n",
    "    plt.figure(figsize=(12,8))\n",
    "    plt.subplot(121)\n",
    "    plt.title('origin_image')\n",
    "    plt.imshow(origin_image)\n",
    "    \n",
    "    plt.subplot(122)\n",
    "    plt.title('bbox_image')\n",
    "    plt.imshow(bbox_image)"
   ]
  },
  {
   "cell_type": "code",
   "execution_count": null,
   "metadata": {},
   "outputs": [],
   "source": []
  }
 ],
 "metadata": {
  "kernelspec": {
   "display_name": "eda",
   "language": "python",
   "name": "python3"
  },
  "language_info": {
   "codemirror_mode": {
    "name": "ipython",
    "version": 3
   },
   "file_extension": ".py",
   "mimetype": "text/x-python",
   "name": "python",
   "nbconvert_exporter": "python",
   "pygments_lexer": "ipython3",
   "version": "3.8.0"
  },
  "orig_nbformat": 4
 },
 "nbformat": 4,
 "nbformat_minor": 2
}
