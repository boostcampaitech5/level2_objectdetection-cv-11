{
 "cells": [
  {
   "cell_type": "code",
   "execution_count": 1,
   "metadata": {},
   "outputs": [
    {
     "name": "stdout",
     "output_type": "stream",
     "text": [
      "bbox 개수가 30개 이상인 이미지 이름:  ['train/0168.jpg', 'train/0272.jpg', 'train/0321.jpg', 'train/0352.jpg', 'train/0384.jpg', 'train/0394.jpg', 'train/0624.jpg', 'train/0655.jpg', 'train/0694.jpg', 'train/0767.jpg', 'train/0833.jpg', 'train/0840.jpg', 'train/0946.jpg', 'train/0956.jpg', 'train/1002.jpg', 'train/1020.jpg', 'train/1058.jpg', 'train/1177.jpg', 'train/1669.jpg', 'train/1671.jpg', 'train/1678.jpg', 'train/1797.jpg', 'train/1872.jpg', 'train/1918.jpg', 'train/1955.jpg', 'train/1997.jpg', 'train/2182.jpg', 'train/2189.jpg', 'train/2387.jpg', 'train/2416.jpg', 'train/2521.jpg', 'train/2572.jpg', 'train/2678.jpg', 'train/2794.jpg', 'train/2956.jpg', 'train/2981.jpg', 'train/3026.jpg', 'train/3046.jpg', 'train/3049.jpg', 'train/3135.jpg', 'train/3148.jpg', 'train/3403.jpg', 'train/3430.jpg', 'train/3450.jpg', 'train/3601.jpg', 'train/3716.jpg', 'train/3796.jpg', 'train/3825.jpg', 'train/4047.jpg', 'train/4119.jpg', 'train/4197.jpg', 'train/4225.jpg', 'train/4261.jpg', 'train/4492.jpg', 'train/4537.jpg', 'train/4778.jpg', 'train/4841.jpg']\n",
      "bbox_30_images 이미지 개수: 57\n",
      "유니크 클래스 개수가 6개 이상인 이미지 이름:  ['train/0042.jpg', 'train/0152.jpg', 'train/0170.jpg', 'train/0190.jpg', 'train/0221.jpg', 'train/0469.jpg', 'train/0493.jpg', 'train/0550.jpg', 'train/0602.jpg', 'train/0751.jpg', 'train/0861.jpg', 'train/0891.jpg', 'train/0930.jpg', 'train/1019.jpg', 'train/1051.jpg', 'train/1063.jpg', 'train/1127.jpg', 'train/1171.jpg', 'train/1316.jpg', 'train/1338.jpg', 'train/1360.jpg', 'train/1435.jpg', 'train/1445.jpg', 'train/1447.jpg', 'train/1535.jpg', 'train/1621.jpg', 'train/1677.jpg', 'train/1728.jpg', 'train/1857.jpg', 'train/1913.jpg', 'train/1963.jpg', 'train/1996.jpg', 'train/2042.jpg', 'train/2228.jpg', 'train/2317.jpg', 'train/2522.jpg', 'train/2539.jpg', 'train/2558.jpg', 'train/2583.jpg', 'train/2624.jpg', 'train/2648.jpg', 'train/2666.jpg', 'train/2741.jpg', 'train/2815.jpg', 'train/2848.jpg', 'train/2863.jpg', 'train/3162.jpg', 'train/3263.jpg', 'train/3277.jpg', 'train/3289.jpg', 'train/3296.jpg', 'train/3543.jpg', 'train/3575.jpg', 'train/3659.jpg', 'train/3662.jpg', 'train/3707.jpg', 'train/3882.jpg', 'train/3905.jpg', 'train/3946.jpg', 'train/4070.jpg', 'train/4101.jpg', 'train/4260.jpg', 'train/4292.jpg', 'train/4331.jpg', 'train/4445.jpg', 'train/4570.jpg', 'train/4746.jpg', 'train/4794.jpg']\n",
      "unique_class_images 이미지 개수: 68\n",
      "bbox 개수가 30개 이상이거나 유니크 클래스 개수가 6개 이상인 이미지: ['train/1316.jpg', 'train/3543.jpg', 'train/1051.jpg', 'train/2521.jpg', 'train/0168.jpg', 'train/4445.jpg', 'train/3277.jpg', 'train/1002.jpg', 'train/3026.jpg', 'train/3575.jpg', 'train/2624.jpg', 'train/0221.jpg', 'train/4570.jpg', 'train/1020.jpg', 'train/3135.jpg', 'train/0550.jpg', 'train/1797.jpg', 'train/2848.jpg', 'train/0840.jpg', 'train/0694.jpg', 'train/4197.jpg', 'train/3046.jpg', 'train/3289.jpg', 'train/0861.jpg', 'train/4292.jpg', 'train/0767.jpg', 'train/2416.jpg', 'train/0190.jpg', 'train/3162.jpg', 'train/0394.jpg', 'train/3707.jpg', 'train/1058.jpg', 'train/3796.jpg', 'train/3882.jpg', 'train/0624.jpg', 'train/1955.jpg', 'train/1913.jpg', 'train/2539.jpg', 'train/2981.jpg', 'train/2228.jpg', 'train/2815.jpg', 'train/4492.jpg', 'train/4261.jpg', 'train/3659.jpg', 'train/1621.jpg', 'train/4070.jpg', 'train/1857.jpg', 'train/1997.jpg', 'train/0891.jpg', 'train/1728.jpg', 'train/4260.jpg', 'train/0655.jpg', 'train/0833.jpg', 'train/4331.jpg', 'train/4047.jpg', 'train/4537.jpg', 'train/0930.jpg', 'train/4778.jpg', 'train/0042.jpg', 'train/3716.jpg', 'train/2387.jpg', 'train/2648.jpg', 'train/1171.jpg', 'train/2042.jpg', 'train/4794.jpg', 'train/1996.jpg', 'train/3825.jpg', 'train/3450.jpg', 'train/0469.jpg', 'train/0352.jpg', 'train/1669.jpg', 'train/1678.jpg', 'train/2182.jpg', 'train/1019.jpg', 'train/1338.jpg', 'train/1535.jpg', 'train/4841.jpg', 'train/1435.jpg', 'train/0602.jpg', 'train/1063.jpg', 'train/4119.jpg', 'train/1963.jpg', 'train/2666.jpg', 'train/1671.jpg', 'train/3430.jpg', 'train/0493.jpg', 'train/2189.jpg', 'train/2678.jpg', 'train/0152.jpg', 'train/2741.jpg', 'train/1177.jpg', 'train/3148.jpg', 'train/1872.jpg', 'train/0170.jpg', 'train/2863.jpg', 'train/4746.jpg', 'train/3049.jpg', 'train/0956.jpg', 'train/3296.jpg', 'train/2558.jpg', 'train/3946.jpg', 'train/2572.jpg', 'train/1445.jpg', 'train/1447.jpg', 'train/2583.jpg', 'train/4101.jpg', 'train/3263.jpg', 'train/2522.jpg', 'train/0272.jpg', 'train/0321.jpg', 'train/2956.jpg', 'train/3601.jpg', 'train/2794.jpg', 'train/1360.jpg', 'train/3905.jpg', 'train/1918.jpg', 'train/3403.jpg', 'train/2317.jpg', 'train/3662.jpg', 'train/1127.jpg', 'train/4225.jpg', 'train/1677.jpg', 'train/0946.jpg', 'train/0751.jpg', 'train/0384.jpg']\n",
      "outlier_images 이미지 개수: 125\n"
     ]
    }
   ],
   "source": [
    "import json\n",
    "\n",
    "# COCO 데이터셋에서 이미지와 annotation 정보를 읽어옴\n",
    "with open('/opt/ml/dataset/train.json', 'r') as f:\n",
    "    coco_data = json.load(f)\n",
    "\n",
    "# 유니크한 클래스 개수가 6개 이상인 이미지와 bbox 개수가 30개 이상인 이미지를 담을 리스트\n",
    "unique_class_images = []\n",
    "bbox_30_images = []\n",
    "\n",
    "for img in coco_data['images']:\n",
    "    bbox_num = []\n",
    "    category_num = []\n",
    "    img_id = img['id']\n",
    "    # ann_ids = coco_data['imgToAnns'].get(str(img_id), [])\n",
    "    anns = [ann for ann in coco_data['annotations'] if ann['image_id'] == img_id]\n",
    "    ann_ids = anns\n",
    "    # print(ann_ids)\n",
    "    # break\n",
    "    bbox_count = len(ann_ids)\n",
    "    if bbox_count >= 30:\n",
    "        bbox_30_images.append(img['file_name'])\n",
    "        \n",
    "    else:\n",
    "        category_count = len(set(ann['category_id'] for ann in ann_ids))\n",
    "        if category_count >= 6:\n",
    "            unique_class_images.append(img['file_name'])\n",
    "\n",
    "outlier_images = list(set(bbox_30_images+unique_class_images))\n",
    "# 결과 출력\n",
    "print(\"bbox 개수가 30개 이상인 이미지 이름: \", bbox_30_images)\n",
    "print(\"bbox_30_images 이미지 개수:\", len(bbox_30_images))\n",
    "print(\"유니크 클래스 개수가 6개 이상인 이미지 이름: \", unique_class_images)\n",
    "print(\"unique_class_images 이미지 개수:\", len(unique_class_images))\n",
    "print(\"bbox 개수가 30개 이상이거나 유니크 클래스 개수가 6개 이상인 이미지:\", outlier_images)\n",
    "print(\"outlier_images 이미지 개수:\", len(outlier_images))\n"
   ]
  },
  {
   "attachments": {},
   "cell_type": "markdown",
   "metadata": {},
   "source": [
    "## 모든 이미지의 경로, 총 bbox, 유니크 클래스 개수, 클래스 명 CSV 파일"
   ]
  },
  {
   "cell_type": "code",
   "execution_count": 2,
   "metadata": {},
   "outputs": [
    {
     "name": "stdout",
     "output_type": "stream",
     "text": [
      "Done!\n"
     ]
    }
   ],
   "source": [
    "import json\n",
    "import csv\n",
    "\n",
    "# COCO 데이터셋 JSON 파일 경로\n",
    "coco_json_file = '/opt/ml/dataset/train.json'\n",
    "\n",
    "# COCO 데이터셋 JSON 파일 읽기\n",
    "with open(coco_json_file, \"r\") as f:\n",
    "    coco_data = json.load(f)\n",
    "\n",
    "# 이미지 정보와 객체 정보를 읽어서 딕셔너리에 저장\n",
    "images = {}\n",
    "for img in coco_data[\"images\"]:\n",
    "    img_id = img[\"id\"]\n",
    "    images[img_id] = {\n",
    "        \"filename\": img[\"file_name\"],\n",
    "        \"bbox_count\": 0,\n",
    "        \"class_count\": 0,\n",
    "        \"classes\": set()\n",
    "    }\n",
    "for obj in coco_data[\"annotations\"]:\n",
    "    img_id = obj[\"image_id\"]\n",
    "    images[img_id][\"bbox_count\"] += 1\n",
    "    class_id = obj[\"category_id\"]\n",
    "    class_name = coco_data[\"categories\"][class_id][\"name\"]\n",
    "    images[img_id][\"classes\"].add(class_name)\n",
    "\n",
    "# 유니크한 클래스 개수와 클래스 이름을 계산\n",
    "for img_data in images.values():\n",
    "    img_data[\"class_count\"] = len(img_data[\"classes\"])\n",
    "    img_data[\"classes\"] = \", \".join(sorted(img_data[\"classes\"]))\n",
    "\n",
    "# CSV 파일 생성\n",
    "with open(\"image_stats.csv\", \"w\", newline=\"\") as f:\n",
    "    writer = csv.writer(f)\n",
    "    writer.writerow([\"Filename\", \"Bounding Box Count\", \"Class Count\", \"Classes\"])\n",
    "    for img_id, img_data in images.items():\n",
    "        writer.writerow([img_data[\"filename\"], img_data[\"bbox_count\"], img_data[\"class_count\"], img_data[\"classes\"]])\n",
    "\n",
    "print(\"Done!\")\n"
   ]
  },
  {
   "attachments": {},
   "cell_type": "markdown",
   "metadata": {},
   "source": [
    "## outlier 이미지의 경로, 총 bbox, 유니크 클래스 개수, 클래스 명 CSV 파일"
   ]
  },
  {
   "cell_type": "code",
   "execution_count": 3,
   "metadata": {},
   "outputs": [
    {
     "name": "stdout",
     "output_type": "stream",
     "text": [
      "Done!\n"
     ]
    }
   ],
   "source": [
    "import json\n",
    "import csv\n",
    "\n",
    "# COCO 데이터셋 JSON 파일 경로\n",
    "coco_json_file = '/opt/ml/dataset/train.json'\n",
    "\n",
    "# 추출할 이미지 파일 리스트\n",
    "outlier_images.sort()\n",
    "\n",
    "# COCO 데이터셋 JSON 파일 읽기\n",
    "with open(coco_json_file, \"r\") as f:\n",
    "    coco_data = json.load(f)\n",
    "\n",
    "# 이미지 정보와 객체 정보를 읽어서 딕셔너리에 저장\n",
    "images = {}\n",
    "for img in coco_data[\"images\"]:\n",
    "    if img[\"file_name\"] in outlier_images:\n",
    "        img_id = img[\"id\"]\n",
    "        images[img_id] = {\n",
    "            \"filename\": img[\"file_name\"],\n",
    "            \"bbox_count\": 0,\n",
    "            \"class_count\": 0,\n",
    "            \"classes\": set()\n",
    "        }\n",
    "for obj in coco_data[\"annotations\"]:\n",
    "    img_id = obj[\"image_id\"]\n",
    "    if img_id in images:\n",
    "        images[img_id][\"bbox_count\"] += 1\n",
    "        class_id = obj[\"category_id\"]\n",
    "        class_name = coco_data[\"categories\"][class_id][\"name\"]\n",
    "        images[img_id][\"classes\"].add(class_name)\n",
    "\n",
    "# 유니크한 클래스 개수와 클래스 이름을 계산\n",
    "for img_data in images.values():\n",
    "    img_data[\"class_count\"] = len(img_data[\"classes\"])\n",
    "    img_data[\"classes\"] = \", \".join(sorted(img_data[\"classes\"]))\n",
    "\n",
    "# CSV 파일 생성\n",
    "with open(\"image_stats_selected.csv\", \"w\", newline=\"\") as f:\n",
    "    writer = csv.writer(f)\n",
    "    writer.writerow([\"Filename\", \"Bounding Box Count\", \"Class Count\", \"Classes\"])\n",
    "    for img_id, img_data in images.items():\n",
    "        writer.writerow([img_data[\"filename\"], img_data[\"bbox_count\"], img_data[\"class_count\"], img_data[\"classes\"]])\n",
    "\n",
    "print(\"Done!\")"
   ]
  },
  {
   "cell_type": "code",
   "execution_count": null,
   "metadata": {},
   "outputs": [],
   "source": []
  }
 ],
 "metadata": {
  "kernelspec": {
   "display_name": "eda",
   "language": "python",
   "name": "python3"
  },
  "language_info": {
   "codemirror_mode": {
    "name": "ipython",
    "version": 3
   },
   "file_extension": ".py",
   "mimetype": "text/x-python",
   "name": "python",
   "nbconvert_exporter": "python",
   "pygments_lexer": "ipython3",
   "version": "3.8.0"
  },
  "orig_nbformat": 4
 },
 "nbformat": 4,
 "nbformat_minor": 2
}
