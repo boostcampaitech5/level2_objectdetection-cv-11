{
 "cells": [
  {
   "cell_type": "code",
   "execution_count": 1,
   "metadata": {},
   "outputs": [],
   "source": [
    "import numpy as np\n",
    "import pandas as pd\n",
    "import matplotlib.pyplot as plt\n",
    "import json"
   ]
  },
  {
   "cell_type": "code",
   "execution_count": 2,
   "metadata": {},
   "outputs": [],
   "source": [
    "path = \"./dino_nms.json\"\n",
    "dataframe = pd.read_json(path)"
   ]
  },
  {
   "cell_type": "code",
   "execution_count": 3,
   "metadata": {},
   "outputs": [],
   "source": [
    "dataframe['image_id'] = [\"test/\"+str(i).zfill(4)+\".jpg\" for i in dataframe[\"image_id\"]]\n",
    "bbox = np.array([i for i in dataframe[\"bbox\"]])\n",
    "bbox[:, 2], bbox[:,3] = bbox[:, 0] + bbox[:, 2], bbox[:, 1] + bbox[:, 3]\n",
    "bbox = [str(i[0]) + \" \" +str(i[1]) +\" \" +str(i[2]) +\" \" +str(i[3]) for i in bbox]"
   ]
  },
  {
   "cell_type": "code",
   "execution_count": 4,
   "metadata": {},
   "outputs": [],
   "source": [
    "temp = []\n",
    "for i in range(len(dataframe[\"score\"])):\n",
    "    temp.append(str(dataframe[\"score\"][i]) +\" \"+ bbox[i])\n",
    "dataframe[\"PredictionString\"] = temp"
   ]
  },
  {
   "cell_type": "code",
   "execution_count": 5,
   "metadata": {},
   "outputs": [],
   "source": [
    "new_df = pd.DataFrame(columns=[\"PredictionString\",\"image_id\"])\n",
    "\n",
    "# loop through each image in the original table\n",
    "for img in dataframe[\"image_id\"].unique():\n",
    "    # select only the rows for the current image\n",
    "    img_df = dataframe[dataframe[\"image_id\"] == img]\n",
    "    \n",
    "    # create the PredictionString for the current image\n",
    "    pred_str = \"\"\n",
    "    for _, row in img_df.iterrows():\n",
    "        bbox_str = \" \".join(str(x) for x in row[\"bbox\"])\n",
    "        score_str = str(row[\"score\"])\n",
    "        cat_str = str(row[\"category_id\"])\n",
    "        pred_str += f\"{cat_str} {score_str} {bbox_str} \"\n",
    "    \n",
    "    # add the new row to the new dataframe\n",
    "    new_row = {\"image_id\": img, \"PredictionString\": pred_str}\n",
    "    new_df = pd.concat([new_df, pd.DataFrame(new_row, index=[0])], ignore_index=True)"
   ]
  },
  {
   "cell_type": "code",
   "execution_count": 21,
   "metadata": {},
   "outputs": [],
   "source": [
    "new_df.to_csv(\"./dino_nms.csv\")"
   ]
  },
  {
   "cell_type": "code",
   "execution_count": null,
   "metadata": {},
   "outputs": [],
   "source": []
  }
 ],
 "metadata": {
  "kernelspec": {
   "display_name": "base",
   "language": "python",
   "name": "python3"
  },
  "language_info": {
   "codemirror_mode": {
    "name": "ipython",
    "version": 3
   },
   "file_extension": ".py",
   "mimetype": "text/x-python",
   "name": "python",
   "nbconvert_exporter": "python",
   "pygments_lexer": "ipython3",
   "version": "3.7.16"
  },
  "orig_nbformat": 4
 },
 "nbformat": 4,
 "nbformat_minor": 2
}
