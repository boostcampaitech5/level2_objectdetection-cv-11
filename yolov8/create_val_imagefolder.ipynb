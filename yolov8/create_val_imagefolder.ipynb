{
 "cells": [
  {
   "cell_type": "code",
   "execution_count": 13,
   "metadata": {},
   "outputs": [],
   "source": [
    "from glob import glob\n",
    "\n",
    "import shutil\n",
    "import os\n",
    "from pycocotools.coco import COCO"
   ]
  },
  {
   "cell_type": "code",
   "execution_count": 12,
   "metadata": {},
   "outputs": [
    {
     "name": "stdout",
     "output_type": "stream",
     "text": [
      "loading annotations into memory...\n",
      "Done (t=0.02s)\n",
      "creating index...\n",
      "index created!\n"
     ]
    }
   ],
   "source": [
    "coco = COCO('/opt/ml/dataset/images/2___val_MultiStfKFold.json')\n",
    "file_source = '/opt/ml/dataset/images/'\n",
    "file_destination = '/opt/ml/dataset/images/val/'\n",
    "for image_id in coco.getImgIds():\n",
    "    imageinfo = coco.loadImgs(image_id)[0]\n",
    "    filename = imageinfo['file_name']\n",
    "    shutil.move(file_source+filename, file_destination)"
   ]
  },
  {
   "cell_type": "code",
   "execution_count": 20,
   "metadata": {},
   "outputs": [
    {
     "name": "stdout",
     "output_type": "stream",
     "text": [
      "loading annotations into memory...\n",
      "Done (t=0.02s)\n",
      "creating index...\n",
      "index created!\n"
     ]
    }
   ],
   "source": [
    "coco = COCO('/opt/ml/dataset/images/2___val_MultiStfKFold.json')\n",
    "file_source = '/opt/ml/dataset/images/val/'\n",
    "file_destination = '/opt/ml/dataset/images/train/'\n",
    "for image_id in coco.getImgIds():\n",
    "    imageinfo = coco.loadImgs(image_id)[0]\n",
    "    filename = imageinfo['file_name']\n",
    "    filename=filename.split('/')[1]\n",
    "    if filename in os.listdir(file_source):\n",
    "        shutil.move(file_source+filename, file_destination)"
   ]
  },
  {
   "cell_type": "code",
   "execution_count": null,
   "metadata": {},
   "outputs": [],
   "source": []
  }
 ],
 "metadata": {
  "accelerator": "GPU",
  "colab": {
   "name": "YOLOv8 Tutorial",
   "provenance": [],
   "toc_visible": true
  },
  "kernelspec": {
   "display_name": "Python 3 (ipykernel)",
   "language": "python",
   "name": "python3"
  },
  "language_info": {
   "codemirror_mode": {
    "name": "ipython",
    "version": 3
   },
   "file_extension": ".py",
   "mimetype": "text/x-python",
   "name": "python",
   "nbconvert_exporter": "python",
   "pygments_lexer": "ipython3",
   "version": "3.7.16"
  }
 },
 "nbformat": 4,
 "nbformat_minor": 4
}
